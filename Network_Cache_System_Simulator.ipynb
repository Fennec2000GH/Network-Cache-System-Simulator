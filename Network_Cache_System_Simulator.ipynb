{
  "nbformat": 4,
  "nbformat_minor": 0,
  "metadata": {
    "colab": {
      "name": "Network Cache System Simulator.ipynb",
      "provenance": [],
      "collapsed_sections": [],
      "include_colab_link": true
    },
    "kernelspec": {
      "name": "julia-1.4",
      "display_name": "Julia"
    }
  },
  "cells": [
    {
      "cell_type": "markdown",
      "metadata": {
        "id": "view-in-github",
        "colab_type": "text"
      },
      "source": [
        "<a href=\"https://colab.research.google.com/github/Fennec2000GH/Network-Cache-System-Simulator/blob/main/Network_Cache_System_Simulator.ipynb\" target=\"_parent\"><img src=\"https://colab.research.google.com/assets/colab-badge.svg\" alt=\"Open In Colab\"/></a>"
      ]
    },
    {
      "cell_type": "markdown",
      "source": [
        "# Discrete Event Simulator"
      ],
      "metadata": {
        "id": "yaZ0ArW8n1Sr"
      }
    },
    {
      "cell_type": "code",
      "metadata": {
        "id": "PzmKOAh2LZrF",
        "colab": {
          "base_uri": "https://localhost:8080/"
        },
        "outputId": "849ee693-bb19-401f-df0c-e708576e868e"
      },
      "source": [
        "# installation cell\n",
        "url = 'https://julialang-s3.julialang.org/bin/linux/x64/1.4/julia-1.4.2-linux-x86_64.tar.gz'\n",
        "!wget -O- $url | tar xz -C /usr/local --strip-components 1\n",
        "!julia -e 'using Pkg; pkg\"add IJulia; precompile;\"'"
      ],
      "execution_count": 2,
      "outputs": [
        {
          "output_type": "stream",
          "name": "stdout",
          "text": [
            "--2022-03-18 19:30:22--  https://julialang-s3.julialang.org/bin/linux/x64/1.4/julia-1.4.2-linux-x86_64.tar.gz\n",
            "Resolving julialang-s3.julialang.org (julialang-s3.julialang.org)... 151.101.2.49, 151.101.66.49, 151.101.130.49, ...\n",
            "Connecting to julialang-s3.julialang.org (julialang-s3.julialang.org)|151.101.2.49|:443... connected.\n",
            "HTTP request sent, awaiting response... 302 gce internal redirect trigger\n",
            "Location: https://storage.googleapis.com/julialang2/bin/linux/x64/1.4/julia-1.4.2-linux-x86_64.tar.gz [following]\n",
            "--2022-03-18 19:30:23--  https://storage.googleapis.com/julialang2/bin/linux/x64/1.4/julia-1.4.2-linux-x86_64.tar.gz\n",
            "Resolving storage.googleapis.com (storage.googleapis.com)... 142.251.107.128, 108.177.12.128, 108.177.13.128, ...\n",
            "Connecting to storage.googleapis.com (storage.googleapis.com)|142.251.107.128|:443... connected.\n",
            "HTTP request sent, awaiting response... 200 OK\n",
            "Length: 99093958 (95M) [application/x-tar]\n",
            "Saving to: ‘STDOUT’\n",
            "\n",
            "-                   100%[===================>]  94.50M  23.0MB/s    in 4.1s    \n",
            "\n",
            "2022-03-18 19:30:27 (23.1 MB/s) - written to stdout [99093958/99093958]\n",
            "\n",
            "    Cloning default registries into `~/.julia`\n",
            "    Cloning registry from \"https://github.com/JuliaRegistries/General.git\"\n",
            "\u001b[2K\u001b[?25h      Added registry `General` to `~/.julia/registries/General`\n",
            "  Resolving package versions...\n",
            "  Installed Artifacts ────────── v1.3.0\n",
            "  Installed LibCURL_jll ──────── v7.70.0+2\n",
            "  Installed MozillaCACerts_jll ─ v2022.2.1+0\n",
            "  Installed ArgTools ─────────── v1.1.1\n",
            "  Installed ZMQ ──────────────── v1.2.1\n",
            "  Installed Downloads ────────── v1.6.0\n",
            "  Installed IJulia ───────────── v1.23.2\n",
            "  Installed NetworkOptions ───── v1.2.0\n",
            "  Installed VersionParsing ───── v1.3.0\n",
            "  Installed libsodium_jll ────── v1.0.19+0\n",
            "  Installed nghttp2_jll ──────── v1.40.0+2\n",
            "  Installed ZeroMQ_jll ───────── v4.3.2+6\n",
            "  Installed MbedTLS ──────────── v1.0.3\n",
            "  Installed LibCURL ──────────── v0.6.3\n",
            "  Installed Parsers ──────────── v2.2.3\n",
            "  Installed JLLWrappers ──────── v1.4.1\n",
            "  Installed Preferences ──────── v1.2.5\n",
            "  Installed Zlib_jll ─────────── v1.2.11+18\n",
            "  Installed LibSSH2_jll ──────── v1.9.0+3\n",
            "  Installed MbedTLS_jll ──────── v2.16.8+1\n",
            "  Installed SoftGlobalScope ──── v1.1.0\n",
            "  Installed Conda ────────────── v1.7.0\n",
            "  Installed JSON ─────────────── v0.21.3\n",
            "  Installed TOML ─────────────── v1.0.3\n",
            "Downloading artifact: LibCURL\n",
            "######################################################################## 100.0%\n",
            "\u001b[1A\u001b[2K\u001b[?25hDownloading artifact: MozillaCACerts\n",
            "######################################################################## 100.0%\n",
            "\u001b[1A\u001b[2K\u001b[?25hDownloading artifact: libsodium\n",
            "######################################################################## 100.0%\n",
            "\u001b[1A\u001b[2K\u001b[?25hDownloading artifact: nghttp2\n",
            "######################################################################## 100.0%\n",
            "\u001b[1A\u001b[2K\u001b[?25hDownloading artifact: ZeroMQ\n",
            "######################################################################## 100.0%\n",
            "\u001b[1A\u001b[2K\u001b[?25hDownloading artifact: Zlib\n",
            "######################################################################## 100.0%\n",
            "\u001b[1A\u001b[2K\u001b[?25hDownloading artifact: LibSSH2\n",
            "######################################################################## 100.0%\n",
            "\u001b[1A\u001b[2K\u001b[?25hDownloading artifact: MbedTLS\n",
            "######################################################################## 100.0%\n",
            "\u001b[1A\u001b[2K\u001b[?25h   Updating `~/.julia/environments/v1.4/Project.toml`\n",
            "  [7073ff75] + IJulia v1.23.2\n",
            "   Updating `~/.julia/environments/v1.4/Manifest.toml`\n",
            "  [0dad84c5] + ArgTools v1.1.1\n",
            "  [56f22d72] + Artifacts v1.3.0\n",
            "  [8f4d0f93] + Conda v1.7.0\n",
            "  [f43a241f] + Downloads v1.6.0\n",
            "  [7073ff75] + IJulia v1.23.2\n",
            "  [692b3bcd] + JLLWrappers v1.4.1\n",
            "  [682c06a0] + JSON v0.21.3\n",
            "  [b27032c2] + LibCURL v0.6.3\n",
            "  [deac9b47] + LibCURL_jll v7.70.0+2\n",
            "  [29816b5a] + LibSSH2_jll v1.9.0+3\n",
            "  [739be429] + MbedTLS v1.0.3\n",
            "  [c8ffd9c3] + MbedTLS_jll v2.16.8+1\n",
            "  [14a3606d] + MozillaCACerts_jll v2022.2.1+0\n",
            "  [ca575930] + NetworkOptions v1.2.0\n",
            "  [69de0a69] + Parsers v2.2.3\n",
            "  [21216c6a] + Preferences v1.2.5\n",
            "  [b85f4697] + SoftGlobalScope v1.1.0\n",
            "  [fa267f1f] + TOML v1.0.3\n",
            "  [81def892] + VersionParsing v1.3.0\n",
            "  [c2297ded] + ZMQ v1.2.1\n",
            "  [8f1865be] + ZeroMQ_jll v4.3.2+6\n",
            "  [83775a58] + Zlib_jll v1.2.11+18\n",
            "  [a9144af2] + libsodium_jll v1.0.19+0\n",
            "  [8e850ede] + nghttp2_jll v1.40.0+2\n",
            "  [2a0f44e3] + Base64 \n",
            "  [ade2ca70] + Dates \n",
            "  [8ba89e20] + Distributed \n",
            "  [7b1f6079] + FileWatching \n",
            "  [b77e0a4c] + InteractiveUtils \n",
            "  [76f85450] + LibGit2 \n",
            "  [8f399da3] + Libdl \n",
            "  [56ddb016] + Logging \n",
            "  [d6f4376e] + Markdown \n",
            "  [a63ad114] + Mmap \n",
            "  [44cfe95a] + Pkg \n",
            "  [de0858da] + Printf \n",
            "  [3fa0cd96] + REPL \n",
            "  [9a3f8284] + Random \n",
            "  [ea8e919c] + SHA \n",
            "  [9e88b42a] + Serialization \n",
            "  [6462fe0b] + Sockets \n",
            "  [8dfed614] + Test \n",
            "  [cf7118a7] + UUIDs \n",
            "  [4ec0a83e] + Unicode \n",
            "   Building Conda ─→ `~/.julia/packages/Conda/x2UxR/deps/build.log`\n",
            "   Building IJulia → `~/.julia/packages/IJulia/e8kqU/deps/build.log`\n",
            "Precompiling project...\n"
          ]
        }
      ]
    },
    {
      "cell_type": "code",
      "metadata": {
        "id": "erJ7bkEtLrCF",
        "colab": {
          "base_uri": "https://localhost:8080/"
        },
        "outputId": "7c323cbd-df90-4385-e0bd-2dc513683036"
      },
      "source": [
        "# julia cells\n",
        "function square(x)\n",
        "  return x*x\n",
        "end\n",
        "\n",
        "square(5)"
      ],
      "execution_count": null,
      "outputs": [
        {
          "output_type": "execute_result",
          "data": {
            "text/plain": [
              "25"
            ]
          },
          "metadata": {},
          "execution_count": 1
        }
      ]
    },
    {
      "cell_type": "markdown",
      "source": [
        "Installing packages."
      ],
      "metadata": {
        "id": "qDH4jDIYjkD9"
      }
    },
    {
      "cell_type": "code",
      "source": [
        "import Pkg\n",
        "Pkg.add([\n",
        "  \"AbstractTrees\",\n",
        "  \"DataFrames\",\n",
        "  \"DataStructures\",\n",
        "  \"Distributions\",\n",
        "  \"Gadfly\",\n",
        "  \"Memoize\"\n",
        "])"
      ],
      "metadata": {
        "colab": {
          "base_uri": "https://localhost:8080/"
        },
        "id": "hxFChAuAjknl",
        "outputId": "4ec5c506-ec4c-4027-c2f0-b03763d8ddcd"
      },
      "execution_count": null,
      "outputs": [
        {
          "output_type": "stream",
          "name": "stderr",
          "text": [
            "\u001b[32m\u001b[1m   Updating\u001b[22m\u001b[39m registry at `~/.julia/registries/General`\n"
          ]
        },
        {
          "output_type": "stream",
          "name": "stdout",
          "text": [
            "\u001b[?25l    "
          ]
        },
        {
          "output_type": "stream",
          "name": "stderr",
          "text": [
            "\u001b[32m\u001b[1m   Updating\u001b[22m\u001b[39m git-repo `https://github.com/JuliaRegistries/General.git`\n"
          ]
        },
        {
          "output_type": "stream",
          "name": "stdout",
          "text": [
            "\u001b[36m\u001b[1mFetching:\u001b[22m\u001b[39m [>                                        ]  0.0 %\r    \u001b[36m\u001b[1mFetching:\u001b[22m\u001b[39m [========================================>]  100.0 %\r\u001b[2K\u001b[?25h"
          ]
        },
        {
          "output_type": "stream",
          "name": "stderr",
          "text": [
            "\u001b[32m\u001b[1m  Resolving\u001b[22m\u001b[39m package versions...\n",
            "\u001b[32m\u001b[1m  Installed\u001b[22m\u001b[39m OpenLibm_jll ───────────────── v0.7.1+0\n",
            "\u001b[32m\u001b[1m  Installed\u001b[22m\u001b[39m IntelOpenMP_jll ────────────── v2018.0.3+2\n",
            "\u001b[32m\u001b[1m  Installed\u001b[22m\u001b[39m Memoize ────────────────────── v0.4.4\n",
            "\u001b[32m\u001b[1m  Installed\u001b[22m\u001b[39m Gadfly ─────────────────────── v1.3.4\n",
            "\u001b[32m\u001b[1m  Installed\u001b[22m\u001b[39m AbstractTrees ──────────────── v0.3.4\n",
            "\u001b[32m\u001b[1m  Installed\u001b[22m\u001b[39m DataStructures ─────────────── v0.18.11\n",
            "\u001b[32m\u001b[1m  Installed\u001b[22m\u001b[39m Distributions ──────────────── v0.25.52\n",
            "\u001b[32m\u001b[1m  Installed\u001b[22m\u001b[39m DataFrames ─────────────────── v1.3.2\n",
            "\u001b[32m\u001b[1m  Installed\u001b[22m\u001b[39m DataAPI ────────────────────── v1.9.0\n",
            "\u001b[32m\u001b[1m  Installed\u001b[22m\u001b[39m LazyArtifacts ──────────────── v1.3.0\n",
            "\u001b[32m\u001b[1m  Installed\u001b[22m\u001b[39m OpenSpecFun_jll ────────────── v0.5.3+4\n",
            "\u001b[32m\u001b[1m  Installed\u001b[22m\u001b[39m IndirectArrays ─────────────── v1.0.0\n",
            "\u001b[32m\u001b[1m  Installed\u001b[22m\u001b[39m TableTraits ────────────────── v1.0.1\n",
            "\u001b[32m\u001b[1m  Installed\u001b[22m\u001b[39m CategoricalArrays ──────────── v0.10.5\n",
            "\u001b[32m\u001b[1m  Installed\u001b[22m\u001b[39m StatsBase ──────────────────── v0.33.16\n",
            "\u001b[32m\u001b[1m  Installed\u001b[22m\u001b[39m Juno ───────────────────────── v0.8.4\n",
            "\u001b[32m\u001b[1m  Installed\u001b[22m\u001b[39m Adapt ──────────────────────── v3.3.3\n",
            "\u001b[32m\u001b[1m  Installed\u001b[22m\u001b[39m MKL_jll ────────────────────── v2021.1.1+2\n",
            "\u001b[32m\u001b[1m  Installed\u001b[22m\u001b[39m PDMats ─────────────────────── v0.11.7\n",
            "\u001b[32m\u001b[1m  Installed\u001b[22m\u001b[39m IterTools ──────────────────── v1.4.0\n",
            "\u001b[32m\u001b[1m  Installed\u001b[22m\u001b[39m IrrationalConstants ────────── v0.1.1\n",
            "\u001b[32m\u001b[1m  Installed\u001b[22m\u001b[39m Loess ──────────────────────── v0.5.4\n",
            "\u001b[32m\u001b[1m  Installed\u001b[22m\u001b[39m ChangesOfVariables ─────────── v0.1.2\n",
            "\u001b[32m\u001b[1m  Installed\u001b[22m\u001b[39m Compose ────────────────────── v0.9.3\n",
            "\u001b[32m\u001b[1m  Installed\u001b[22m\u001b[39m Grisu ──────────────────────── v1.0.2\n",
            "\u001b[32m\u001b[1m  Installed\u001b[22m\u001b[39m AxisAlgorithms ─────────────── v1.0.1\n",
            "\u001b[32m\u001b[1m  Installed\u001b[22m\u001b[39m WoodburyMatrices ───────────── v0.5.5\n",
            "\u001b[32m\u001b[1m  Installed\u001b[22m\u001b[39m Contour ────────────────────── v0.5.7\n",
            "\u001b[32m\u001b[1m  Installed\u001b[22m\u001b[39m Rmath_jll ──────────────────── v0.2.2+2\n",
            "\u001b[32m\u001b[1m  Installed\u001b[22m\u001b[39m Hexagons ───────────────────── v0.2.0\n",
            "\u001b[32m\u001b[1m  Installed\u001b[22m\u001b[39m Rmath ──────────────────────── v0.6.1\n",
            "\u001b[32m\u001b[1m  Installed\u001b[22m\u001b[39m IteratorInterfaceExtensions ── v1.0.0\n",
            "\u001b[32m\u001b[1m  Installed\u001b[22m\u001b[39m StatsAPI ───────────────────── v1.2.1\n",
            "\u001b[32m\u001b[1m  Installed\u001b[22m\u001b[39m Colors ─────────────────────── v0.12.8\n",
            "\u001b[32m\u001b[1m  Installed\u001b[22m\u001b[39m SortingAlgorithms ──────────── v1.0.1\n",
            "\u001b[32m\u001b[1m  Installed\u001b[22m\u001b[39m QuadGK ─────────────────────── v2.4.2\n",
            "\u001b[32m\u001b[1m  Installed\u001b[22m\u001b[39m PooledArrays ───────────────── v1.4.0\n",
            "\u001b[32m\u001b[1m  Installed\u001b[22m\u001b[39m OrderedCollections ─────────── v1.4.1\n",
            "\u001b[32m\u001b[1m  Installed\u001b[22m\u001b[39m MacroTools ─────────────────── v0.5.9\n",
            "\u001b[32m\u001b[1m  Installed\u001b[22m\u001b[39m FixedPointNumbers ──────────── v0.8.4\n",
            "\u001b[32m\u001b[1m  Installed\u001b[22m\u001b[39m Reexport ───────────────────── v1.2.2\n",
            "\u001b[32m\u001b[1m  Installed\u001b[22m\u001b[39m ChainRulesCore ─────────────── v1.12.2\n",
            "\u001b[32m\u001b[1m  Installed\u001b[22m\u001b[39m Measures ───────────────────── v0.3.1\n",
            "\u001b[32m\u001b[1m  Installed\u001b[22m\u001b[39m Calculus ───────────────────── v0.5.1\n",
            "\u001b[32m\u001b[1m  Installed\u001b[22m\u001b[39m FillArrays ─────────────────── v0.12.8\n",
            "\u001b[32m\u001b[1m  Installed\u001b[22m\u001b[39m DataValueInterfaces ────────── v1.0.0\n",
            "\u001b[32m\u001b[1m  Installed\u001b[22m\u001b[39m Tables ─────────────────────── v1.7.0\n",
            "\u001b[32m\u001b[1m  Installed\u001b[22m\u001b[39m StatsFuns ──────────────────── v0.9.16\n",
            "\u001b[32m\u001b[1m  Installed\u001b[22m\u001b[39m CompilerSupportLibraries_jll ─ v0.3.4+0\n",
            "\u001b[32m\u001b[1m  Installed\u001b[22m\u001b[39m StaticArrays ───────────────── v1.3.6\n",
            "\u001b[32m\u001b[1m  Installed\u001b[22m\u001b[39m OffsetArrays ───────────────── v1.10.8\n",
            "\u001b[32m\u001b[1m  Installed\u001b[22m\u001b[39m HypergeometricFunctions ────── v0.3.8\n",
            "\u001b[32m\u001b[1m  Installed\u001b[22m\u001b[39m Missings ───────────────────── v1.0.2\n",
            "\u001b[32m\u001b[1m  Installed\u001b[22m\u001b[39m LogExpFunctions ────────────── v0.3.10\n",
            "\u001b[32m\u001b[1m  Installed\u001b[22m\u001b[39m InvertedIndices ────────────── v1.1.0\n",
            "\u001b[32m\u001b[1m  Installed\u001b[22m\u001b[39m NaNMath ────────────────────── v0.3.7\n",
            "\u001b[32m\u001b[1m  Installed\u001b[22m\u001b[39m KernelDensity ──────────────── v0.6.3\n",
            "\u001b[32m\u001b[1m  Installed\u001b[22m\u001b[39m InverseFunctions ───────────── v0.1.3\n",
            "\u001b[32m\u001b[1m  Installed\u001b[22m\u001b[39m Crayons ────────────────────── v4.0.4\n",
            "\u001b[32m\u001b[1m  Installed\u001b[22m\u001b[39m Ratios ─────────────────────── v0.4.3\n",
            "\u001b[32m\u001b[1m  Installed\u001b[22m\u001b[39m Showoff ────────────────────── v1.0.3\n",
            "\u001b[32m\u001b[1m  Installed\u001b[22m\u001b[39m Compat ─────────────────────── v3.42.0\n",
            "\u001b[32m\u001b[1m  Installed\u001b[22m\u001b[39m DensityInterface ───────────── v0.4.0\n",
            "\u001b[32m\u001b[1m  Installed\u001b[22m\u001b[39m Media ──────────────────────── v0.5.0\n",
            "\u001b[32m\u001b[1m  Installed\u001b[22m\u001b[39m DocStringExtensions ────────── v0.8.6\n",
            "\u001b[32m\u001b[1m  Installed\u001b[22m\u001b[39m AbstractFFTs ───────────────── v1.1.0\n",
            "\u001b[32m\u001b[1m  Installed\u001b[22m\u001b[39m SpecialFunctions ───────────── v2.1.4\n",
            "\u001b[32m\u001b[1m  Installed\u001b[22m\u001b[39m Formatting ─────────────────── v0.4.2\n",
            "\u001b[32m\u001b[1m  Installed\u001b[22m\u001b[39m FFTW ───────────────────────── v1.3.2\n",
            "\u001b[32m\u001b[1m  Installed\u001b[22m\u001b[39m Distances ──────────────────── v0.10.7\n",
            "\u001b[32m\u001b[1m  Installed\u001b[22m\u001b[39m Requires ───────────────────── v1.3.0\n",
            "\u001b[32m\u001b[1m  Installed\u001b[22m\u001b[39m CoupledFields ──────────────── v0.2.0\n",
            "\u001b[32m\u001b[1m  Installed\u001b[22m\u001b[39m Interpolations ─────────────── v0.13.5\n",
            "\u001b[32m\u001b[1m  Installed\u001b[22m\u001b[39m PrettyTables ───────────────── v1.3.1\n",
            "\u001b[32m\u001b[1m  Installed\u001b[22m\u001b[39m FFTW_jll ───────────────────── v3.3.9+8\n",
            "\u001b[32m\u001b[1m  Installed\u001b[22m\u001b[39m ColorTypes ─────────────────── v0.11.0\n",
            "\u001b[32m\u001b[1m  Installed\u001b[22m\u001b[39m DualNumbers ────────────────── v0.6.7\n",
            "######################################################################### 100.0%\n",
            "######################################################################### 100.0%\n",
            "######################################################################### 100.0%\n",
            "######################################################################### 100.0%\n",
            "######################################################################### 100.0%\n",
            "######################################################################### 100.0%\n",
            "\u001b[32m\u001b[1m   Updating\u001b[22m\u001b[39m `~/.julia/environments/v1.4/Project.toml`\n",
            " \u001b[90m [1520ce14]\u001b[39m\u001b[92m + AbstractTrees v0.3.4\u001b[39m\n",
            " \u001b[90m [a93c6f00]\u001b[39m\u001b[92m + DataFrames v1.3.2\u001b[39m\n",
            " \u001b[90m [864edb3b]\u001b[39m\u001b[92m + DataStructures v0.18.11\u001b[39m\n",
            " \u001b[90m [31c24e10]\u001b[39m\u001b[92m + Distributions v0.25.52\u001b[39m\n",
            " \u001b[90m [c91e804a]\u001b[39m\u001b[92m + Gadfly v1.3.4\u001b[39m\n",
            " \u001b[90m [c03570c3]\u001b[39m\u001b[92m + Memoize v0.4.4\u001b[39m\n",
            "\u001b[32m\u001b[1m   Updating\u001b[22m\u001b[39m `~/.julia/environments/v1.4/Manifest.toml`\n",
            " \u001b[90m [621f4979]\u001b[39m\u001b[92m + AbstractFFTs v1.1.0\u001b[39m\n",
            " \u001b[90m [1520ce14]\u001b[39m\u001b[92m + AbstractTrees v0.3.4\u001b[39m\n",
            " \u001b[90m [79e6a3ab]\u001b[39m\u001b[92m + Adapt v3.3.3\u001b[39m\n",
            " \u001b[90m [13072b0f]\u001b[39m\u001b[92m + AxisAlgorithms v1.0.1\u001b[39m\n",
            " \u001b[90m [49dc2e85]\u001b[39m\u001b[92m + Calculus v0.5.1\u001b[39m\n",
            " \u001b[90m [324d7699]\u001b[39m\u001b[92m + CategoricalArrays v0.10.5\u001b[39m\n",
            " \u001b[90m [d360d2e6]\u001b[39m\u001b[92m + ChainRulesCore v1.12.2\u001b[39m\n",
            " \u001b[90m [9e997f8a]\u001b[39m\u001b[92m + ChangesOfVariables v0.1.2\u001b[39m\n",
            " \u001b[90m [3da002f7]\u001b[39m\u001b[92m + ColorTypes v0.11.0\u001b[39m\n",
            " \u001b[90m [5ae59095]\u001b[39m\u001b[92m + Colors v0.12.8\u001b[39m\n",
            " \u001b[90m [34da2185]\u001b[39m\u001b[92m + Compat v3.42.0\u001b[39m\n",
            " \u001b[90m [e66e0078]\u001b[39m\u001b[92m + CompilerSupportLibraries_jll v0.3.4+0\u001b[39m\n",
            " \u001b[90m [a81c6b42]\u001b[39m\u001b[92m + Compose v0.9.3\u001b[39m\n",
            " \u001b[90m [d38c429a]\u001b[39m\u001b[92m + Contour v0.5.7\u001b[39m\n",
            " \u001b[90m [7ad07ef1]\u001b[39m\u001b[92m + CoupledFields v0.2.0\u001b[39m\n",
            " \u001b[90m [a8cc5b0e]\u001b[39m\u001b[92m + Crayons v4.0.4\u001b[39m\n",
            " \u001b[90m [9a962f9c]\u001b[39m\u001b[92m + DataAPI v1.9.0\u001b[39m\n",
            " \u001b[90m [a93c6f00]\u001b[39m\u001b[92m + DataFrames v1.3.2\u001b[39m\n",
            " \u001b[90m [864edb3b]\u001b[39m\u001b[92m + DataStructures v0.18.11\u001b[39m\n",
            " \u001b[90m [e2d170a0]\u001b[39m\u001b[92m + DataValueInterfaces v1.0.0\u001b[39m\n",
            " \u001b[90m [b429d917]\u001b[39m\u001b[92m + DensityInterface v0.4.0\u001b[39m\n",
            " \u001b[90m [b4f34e82]\u001b[39m\u001b[92m + Distances v0.10.7\u001b[39m\n",
            " \u001b[90m [31c24e10]\u001b[39m\u001b[92m + Distributions v0.25.52\u001b[39m\n",
            " \u001b[90m [ffbed154]\u001b[39m\u001b[92m + DocStringExtensions v0.8.6\u001b[39m\n",
            " \u001b[90m [fa6b7ba4]\u001b[39m\u001b[92m + DualNumbers v0.6.7\u001b[39m\n",
            " \u001b[90m [7a1cc6ca]\u001b[39m\u001b[92m + FFTW v1.3.2\u001b[39m\n",
            " \u001b[90m [f5851436]\u001b[39m\u001b[92m + FFTW_jll v3.3.9+8\u001b[39m\n",
            " \u001b[90m [1a297f60]\u001b[39m\u001b[92m + FillArrays v0.12.8\u001b[39m\n",
            " \u001b[90m [53c48c17]\u001b[39m\u001b[92m + FixedPointNumbers v0.8.4\u001b[39m\n",
            " \u001b[90m [59287772]\u001b[39m\u001b[92m + Formatting v0.4.2\u001b[39m\n",
            " \u001b[90m [c91e804a]\u001b[39m\u001b[92m + Gadfly v1.3.4\u001b[39m\n",
            " \u001b[90m [42e2da0e]\u001b[39m\u001b[92m + Grisu v1.0.2\u001b[39m\n",
            " \u001b[90m [a1b4810d]\u001b[39m\u001b[92m + Hexagons v0.2.0\u001b[39m\n",
            " \u001b[90m [34004b35]\u001b[39m\u001b[92m + HypergeometricFunctions v0.3.8\u001b[39m\n",
            " \u001b[90m [9b13fd28]\u001b[39m\u001b[92m + IndirectArrays v1.0.0\u001b[39m\n",
            " \u001b[90m [1d5cc7b8]\u001b[39m\u001b[92m + IntelOpenMP_jll v2018.0.3+2\u001b[39m\n",
            " \u001b[90m [a98d9a8b]\u001b[39m\u001b[92m + Interpolations v0.13.5\u001b[39m\n",
            " \u001b[90m [3587e190]\u001b[39m\u001b[92m + InverseFunctions v0.1.3\u001b[39m\n",
            " \u001b[90m [41ab1584]\u001b[39m\u001b[92m + InvertedIndices v1.1.0\u001b[39m\n",
            " \u001b[90m [92d709cd]\u001b[39m\u001b[92m + IrrationalConstants v0.1.1\u001b[39m\n",
            " \u001b[90m [c8e1da08]\u001b[39m\u001b[92m + IterTools v1.4.0\u001b[39m\n",
            " \u001b[90m [82899510]\u001b[39m\u001b[92m + IteratorInterfaceExtensions v1.0.0\u001b[39m\n",
            " \u001b[90m [e5e0dc1b]\u001b[39m\u001b[92m + Juno v0.8.4\u001b[39m\n",
            " \u001b[90m [5ab0869b]\u001b[39m\u001b[92m + KernelDensity v0.6.3\u001b[39m\n",
            " \u001b[90m [4af54fe1]\u001b[39m\u001b[92m + LazyArtifacts v1.3.0\u001b[39m\n",
            " \u001b[90m [4345ca2d]\u001b[39m\u001b[92m + Loess v0.5.4\u001b[39m\n",
            " \u001b[90m [2ab3a3ac]\u001b[39m\u001b[92m + LogExpFunctions v0.3.10\u001b[39m\n",
            " \u001b[90m [856f044c]\u001b[39m\u001b[92m + MKL_jll v2021.1.1+2\u001b[39m\n",
            " \u001b[90m [1914dd2f]\u001b[39m\u001b[92m + MacroTools v0.5.9\u001b[39m\n",
            " \u001b[90m [442fdcdd]\u001b[39m\u001b[92m + Measures v0.3.1\u001b[39m\n",
            " \u001b[90m [e89f7d12]\u001b[39m\u001b[92m + Media v0.5.0\u001b[39m\n",
            " \u001b[90m [c03570c3]\u001b[39m\u001b[92m + Memoize v0.4.4\u001b[39m\n",
            " \u001b[90m [e1d29d7a]\u001b[39m\u001b[92m + Missings v1.0.2\u001b[39m\n",
            " \u001b[90m [77ba4419]\u001b[39m\u001b[92m + NaNMath v0.3.7\u001b[39m\n",
            " \u001b[90m [6fe1bfb0]\u001b[39m\u001b[92m + OffsetArrays v1.10.8\u001b[39m\n",
            " \u001b[90m [05823500]\u001b[39m\u001b[92m + OpenLibm_jll v0.7.1+0\u001b[39m\n",
            " \u001b[90m [efe28fd5]\u001b[39m\u001b[92m + OpenSpecFun_jll v0.5.3+4\u001b[39m\n",
            " \u001b[90m [bac558e1]\u001b[39m\u001b[92m + OrderedCollections v1.4.1\u001b[39m\n",
            " \u001b[90m [90014a1f]\u001b[39m\u001b[92m + PDMats v0.11.7\u001b[39m\n",
            " \u001b[90m [2dfb63ee]\u001b[39m\u001b[92m + PooledArrays v1.4.0\u001b[39m\n",
            " \u001b[90m [08abe8d2]\u001b[39m\u001b[92m + PrettyTables v1.3.1\u001b[39m\n",
            " \u001b[90m [1fd47b50]\u001b[39m\u001b[92m + QuadGK v2.4.2\u001b[39m\n",
            " \u001b[90m [c84ed2f1]\u001b[39m\u001b[92m + Ratios v0.4.3\u001b[39m\n",
            " \u001b[90m [189a3867]\u001b[39m\u001b[92m + Reexport v1.2.2\u001b[39m\n",
            " \u001b[90m [ae029012]\u001b[39m\u001b[92m + Requires v1.3.0\u001b[39m\n",
            " \u001b[90m [79098fc4]\u001b[39m\u001b[92m + Rmath v0.6.1\u001b[39m\n",
            " \u001b[90m [f50d1b31]\u001b[39m\u001b[92m + Rmath_jll v0.2.2+2\u001b[39m\n",
            " \u001b[90m [992d4aef]\u001b[39m\u001b[92m + Showoff v1.0.3\u001b[39m\n",
            " \u001b[90m [a2af1166]\u001b[39m\u001b[92m + SortingAlgorithms v1.0.1\u001b[39m\n",
            " \u001b[90m [276daf66]\u001b[39m\u001b[92m + SpecialFunctions v2.1.4\u001b[39m\n",
            " \u001b[90m [90137ffa]\u001b[39m\u001b[92m + StaticArrays v1.3.6\u001b[39m\n",
            " \u001b[90m [82ae8749]\u001b[39m\u001b[92m + StatsAPI v1.2.1\u001b[39m\n",
            " \u001b[90m [2913bbd2]\u001b[39m\u001b[92m + StatsBase v0.33.16\u001b[39m\n",
            " \u001b[90m [4c63d2b9]\u001b[39m\u001b[92m + StatsFuns v0.9.16\u001b[39m\n",
            " \u001b[90m [3783bdb8]\u001b[39m\u001b[92m + TableTraits v1.0.1\u001b[39m\n",
            " \u001b[90m [bd369af6]\u001b[39m\u001b[92m + Tables v1.7.0\u001b[39m\n",
            " \u001b[90m [efce3f68]\u001b[39m\u001b[92m + WoodburyMatrices v0.5.5\u001b[39m\n",
            " \u001b[90m [8bb1440f]\u001b[39m\u001b[92m + DelimitedFiles \u001b[39m\n",
            " \u001b[90m [9fa8497b]\u001b[39m\u001b[92m + Future \u001b[39m\n",
            " \u001b[90m [37e2e46d]\u001b[39m\u001b[92m + LinearAlgebra \u001b[39m\n",
            " \u001b[90m [9abbd945]\u001b[39m\u001b[92m + Profile \u001b[39m\n",
            " \u001b[90m [1a1011a3]\u001b[39m\u001b[92m + SharedArrays \u001b[39m\n",
            " \u001b[90m [2f01184e]\u001b[39m\u001b[92m + SparseArrays \u001b[39m\n",
            " \u001b[90m [10745b16]\u001b[39m\u001b[92m + Statistics \u001b[39m\n",
            " \u001b[90m [4607b0f0]\u001b[39m\u001b[92m + SuiteSparse \u001b[39m\n",
            "\u001b[32m\u001b[1m   Building\u001b[22m\u001b[39m FFTW → `~/.julia/packages/FFTW/G3lSO/deps/build.log`\n"
          ]
        }
      ]
    },
    {
      "cell_type": "code",
      "source": [
        "Pkg.add([\n",
        "  \"ResumableFunctions\",\n",
        "  \"SimJulia\"\n",
        "])"
      ],
      "metadata": {
        "colab": {
          "base_uri": "https://localhost:8080/"
        },
        "id": "oaW7Da47Uqze",
        "outputId": "64a9b8ac-1f2f-476f-d147-5e9e05bc380a"
      },
      "execution_count": null,
      "outputs": [
        {
          "output_type": "stream",
          "name": "stderr",
          "text": [
            "\u001b[32m\u001b[1m  Resolving\u001b[22m\u001b[39m package versions...\n",
            "\u001b[32m\u001b[1m  Installed\u001b[22m\u001b[39m SimJulia ─────────── v0.8.2\n",
            "\u001b[32m\u001b[1m  Installed\u001b[22m\u001b[39m ResumableFunctions ─ v0.6.1\n",
            "\u001b[32m\u001b[1m   Updating\u001b[22m\u001b[39m `~/.julia/environments/v1.4/Project.toml`\n",
            " \u001b[90m [c5292f4c]\u001b[39m\u001b[92m + ResumableFunctions v0.6.1\u001b[39m\n",
            " \u001b[90m [428bdadb]\u001b[39m\u001b[92m + SimJulia v0.8.2\u001b[39m\n",
            "\u001b[32m\u001b[1m   Updating\u001b[22m\u001b[39m `~/.julia/environments/v1.4/Manifest.toml`\n",
            " \u001b[90m [c5292f4c]\u001b[39m\u001b[92m + ResumableFunctions v0.6.1\u001b[39m\n",
            " \u001b[90m [428bdadb]\u001b[39m\u001b[92m + SimJulia v0.8.2\u001b[39m\n"
          ]
        }
      ]
    },
    {
      "cell_type": "code",
      "source": [
        "Pkg.test(\"SimJulia\")"
      ],
      "metadata": {
        "colab": {
          "base_uri": "https://localhost:8080/",
          "height": 165
        },
        "id": "wzBiv_Eknj1T",
        "outputId": "742f40e2-86b5-45b2-b3e1-64546b46bc21"
      },
      "execution_count": 1,
      "outputs": [
        {
          "output_type": "error",
          "ename": "NameError",
          "evalue": "ignored",
          "traceback": [
            "\u001b[0;31m---------------------------------------------------------------------------\u001b[0m",
            "\u001b[0;31mNameError\u001b[0m                                 Traceback (most recent call last)",
            "\u001b[0;32m<ipython-input-1-bba70ce8f8a2>\u001b[0m in \u001b[0;36m<module>\u001b[0;34m()\u001b[0m\n\u001b[0;32m----> 1\u001b[0;31m \u001b[0mPkg\u001b[0m\u001b[0;34m.\u001b[0m\u001b[0mtest\u001b[0m\u001b[0;34m(\u001b[0m\u001b[0;34m\"SimJulia\"\u001b[0m\u001b[0;34m)\u001b[0m\u001b[0;34m\u001b[0m\u001b[0;34m\u001b[0m\u001b[0m\n\u001b[0m",
            "\u001b[0;31mNameError\u001b[0m: name 'Pkg' is not defined"
          ]
        }
      ]
    },
    {
      "cell_type": "code",
      "source": [
        "using ResumableFunctions, SimJulia"
      ],
      "metadata": {
        "id": "uM6_Opfijks5"
      },
      "execution_count": null,
      "outputs": []
    },
    {
      "cell_type": "markdown",
      "source": [
        "Simulations."
      ],
      "metadata": {
        "id": "HPyZpESKjkyA"
      }
    },
    {
      "cell_type": "code",
      "source": [
        "@resumable function packet(env::Environment)\n",
        "  SimJulia.Process()\n",
        "  @yield timeout(now=0, delay=4)\n",
        "end"
      ],
      "metadata": {
        "colab": {
          "base_uri": "https://localhost:8080/"
        },
        "id": "9QYNlQlAjk0q",
        "outputId": "61475555-630e-4c58-fc7e-0afb89d7e877"
      },
      "execution_count": null,
      "outputs": [
        {
          "output_type": "execute_result",
          "data": {
            "text/plain": [
              "packet (generic function with 1 method)"
            ]
          },
          "metadata": {},
          "execution_count": 6
        }
      ]
    },
    {
      "cell_type": "code",
      "source": [
        "print(SimJulia.Environment(nothing))"
      ],
      "metadata": {
        "colab": {
          "base_uri": "https://localhost:8080/",
          "height": 130
        },
        "id": "JIVzvivajk36",
        "outputId": "83bd3183-57e5-423c-8705-bbedf342358a"
      },
      "execution_count": null,
      "outputs": [
        {
          "output_type": "error",
          "ename": "MethodError",
          "evalue": "ignored",
          "traceback": [
            "\u001b[91mMethodError: no constructors have been defined for Environment\u001b[39m",
            "",
            "Stacktrace:",
            " [1] top-level scope at In[13]:1"
          ]
        }
      ]
    },
    {
      "cell_type": "code",
      "source": [
        ""
      ],
      "metadata": {
        "id": "yu-EsPq2jlJc"
      },
      "execution_count": null,
      "outputs": []
    },
    {
      "cell_type": "markdown",
      "source": [
        "File"
      ],
      "metadata": {
        "id": "fTAwLgAJjlVE"
      }
    },
    {
      "cell_type": "code",
      "source": [
        "struct File\n",
        "  id::Int64\n",
        "  size::Float64\n",
        "end"
      ],
      "metadata": {
        "id": "4O1y72-KjlX9"
      },
      "execution_count": null,
      "outputs": []
    },
    {
      "cell_type": "code",
      "source": [
        "File(0, 1.234)"
      ],
      "metadata": {
        "id": "1QNNj8Rcjlak",
        "colab": {
          "base_uri": "https://localhost:8080/"
        },
        "outputId": "263c67ae-560f-4ae9-ca44-f39afe2ace58"
      },
      "execution_count": null,
      "outputs": [
        {
          "output_type": "execute_result",
          "data": {
            "text/plain": [
              "File(0, 1.234)"
            ]
          },
          "metadata": {},
          "execution_count": 7
        }
      ]
    },
    {
      "cell_type": "code",
      "source": [
        "using Distributions"
      ],
      "metadata": {
        "id": "NQhMst43jldm",
        "colab": {
          "base_uri": "https://localhost:8080/"
        },
        "outputId": "3c036a97-03f5-40e4-ba0d-8f6c5ad6f97f"
      },
      "execution_count": null,
      "outputs": [
        {
          "output_type": "stream",
          "name": "stderr",
          "text": [
            "┌ Info: Precompiling Distributions [31c24e10-a181-5473-b8eb-7969acd0382f]\n",
            "└ @ Base loading.jl:1260\n"
          ]
        }
      ]
    },
    {
      "cell_type": "code",
      "source": [
        "Distributions.Pareto()\n",
        "Distributions.Poisson()"
      ],
      "metadata": {
        "id": "9ZvYw7APjlgh",
        "colab": {
          "base_uri": "https://localhost:8080/"
        },
        "outputId": "70551a0a-04f2-48fe-f033-6767139416a7"
      },
      "execution_count": null,
      "outputs": [
        {
          "output_type": "execute_result",
          "data": {
            "text/plain": [
              "Poisson{Float64}(λ=1.0)"
            ]
          },
          "metadata": {},
          "execution_count": 12
        }
      ]
    },
    {
      "cell_type": "code",
      "source": [
        ""
      ],
      "metadata": {
        "id": "R8mxq9ThVhcl"
      },
      "execution_count": null,
      "outputs": []
    }
  ]
}